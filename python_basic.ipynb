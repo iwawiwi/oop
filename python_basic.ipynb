{
 "cells": [
  {
   "cell_type": "code",
   "execution_count": null,
   "metadata": {},
   "outputs": [],
   "source": [
    "class Car:\n",
    "    def __init__(self, color, mileage):\n",
    "        self.color = color\n",
    "        self.mileage = mileage\n",
    "\n",
    "    def __str__(self) -> str:\n",
    "        return f\"The {self.color} car has {self.mileage} miles.\"\n",
    "\n",
    "car1 = Car(\"red\", 30000)\n",
    "print(car1)\n",
    "car2 = Car(\"blue\", 20000)\n",
    "print(car2)"
   ]
  },
  {
   "cell_type": "code",
   "execution_count": null,
   "metadata": {},
   "outputs": [],
   "source": [
    "class Dog:\n",
    "    species = \"Canis familiaris\"\n",
    "\n",
    "    def __init__(self, name, age) -> None:\n",
    "        self.name = name\n",
    "        self.age = age\n",
    "\n",
    "    def __str__(self) -> str:\n",
    "        return f\"{self.name} is {self.age} year old\"\n",
    "\n",
    "    def speak(self, sound) -> str:\n",
    "        return f\"{self.name} says {sound}\"\n",
    "\n",
    "class GoldenRetriever(Dog):\n",
    "    def speak(self, sound=\"Bark\") -> str:\n",
    "        return super().speak(sound)\n",
    "\n",
    "dog = GoldenRetriever(\"Rosky\", 2)\n",
    "dog.speak()"
   ]
  },
  {
   "cell_type": "code",
   "execution_count": null,
   "metadata": {},
   "outputs": [],
   "source": [
    "import this"
   ]
  },
  {
   "cell_type": "code",
   "execution_count": null,
   "metadata": {},
   "outputs": [],
   "source": [
    "class Person:\n",
    "    class_attribute = \"example of class attribute\"\n",
    "\n",
    "    def __init__(self, fname, lname) -> None:\n",
    "        self.fname = fname\n",
    "        self.lname = lname\n",
    "    \n",
    "    def __str__(self) -> str:\n",
    "        return f\"Person with name {self.fname} {self.lname}\"\n",
    "\n",
    "    def get_lastname(self) -> str: # private\n",
    "        return self.lname\n",
    "\n",
    "    @classmethod\n",
    "    def class_method(cls) -> str: # access class variable\n",
    "        #return class_atribute # this statement is not legal\n",
    "        #return cls.get_lastname() # this statement is illegal\n",
    "        return cls.class_attribute # cls can only access class variable\n",
    "\n",
    "    @staticmethod\n",
    "    def static_method() -> str: # static method\n",
    "        return f\"Calling is static method...\"  \n",
    "\n",
    "    def class_method_instance(self) -> str:\n",
    "        print(Person.static_method()) # calling static method inside class method is legal\n",
    "        return self.class_attribute\n",
    "\n",
    "    # This method can't be called from main\n",
    "    @classmethod\n",
    "    def class_method_without_cls() -> str:\n",
    "        return f\"class_method without cls\"\n",
    "\n",
    "\n",
    "class Student(Person):\n",
    "    def __init__(self, fname, lname) -> None:\n",
    "        super().__init__(fname, lname)\n",
    "        self.occupation = \"student\"\n",
    "\n",
    "    def __str__(self) -> str:\n",
    "        return super().__str__() + \" as Student\" # call parent method\n",
    "\n",
    "p = Person(\"Mike\", \"Olsen\")\n",
    "print(p)\n",
    "print(Person.static_method())\n",
    "print(p.class_method())\n",
    "print(p.class_method_instance())\n",
    "\n",
    "\n",
    "s = Student(\"Mike\", \"Olsen\")\n",
    "print(s)\n",
    "print(s.get_lastname())"
   ]
  },
  {
   "cell_type": "code",
   "execution_count": null,
   "metadata": {},
   "outputs": [],
   "source": [
    "a = {\"5\", \"6\", \"56\", \"89\", \"2\", \"7\"}\n",
    "for i in a:\n",
    "    print(i)"
   ]
  },
  {
   "cell_type": "code",
   "execution_count": null,
   "metadata": {},
   "outputs": [],
   "source": [
    "text = \"a car a man a man\"\n",
    "s = set(text.split())\n",
    "print(s)\n",
    "print(len(s))\n"
   ]
  },
  {
   "cell_type": "code",
   "execution_count": null,
   "metadata": {},
   "outputs": [],
   "source": [
    "randoms = {1:\"Bob\", \"17\":False, \"Blue\":\"Red\"}\n",
    "print(randoms)"
   ]
  },
  {
   "cell_type": "code",
   "execution_count": null,
   "metadata": {},
   "outputs": [],
   "source": [
    "x = {} # declare empty dictionary\n",
    "for i in range(1, 4):\n",
    "  x[i] = i**3\n",
    "print(x)\n"
   ]
  },
  {
   "cell_type": "code",
   "execution_count": null,
   "metadata": {},
   "outputs": [],
   "source": [
    "def fibo(n) -> int:\n",
    "    if n == 0 or n == 1: return 1\n",
    "    else: return fibo(n-2) + fibo(n-1)\n",
    "\n",
    "# 1 1 2 3 5 8\n",
    "fibo(3)"
   ]
  },
  {
   "cell_type": "code",
   "execution_count": null,
   "metadata": {},
   "outputs": [],
   "source": [
    "import numpy as np\n",
    "d = np.array([[1,2,3],[3,4,5]]) # 2x3\n",
    "e = np.array([[1,2,3],[2,3,4]]) # 3x2\n",
    "\n",
    "f = d+e\n",
    "print(f)"
   ]
  },
  {
   "cell_type": "code",
   "execution_count": 7,
   "metadata": {},
   "outputs": [
    {
     "name": "stdout",
     "output_type": "stream",
     "text": [
      "Person with name Mike Olsen\n",
      "John Doe 9\n"
     ]
    }
   ],
   "source": [
    "class Person:\n",
    "    def __init__(self, fname, lname) -> None:\n",
    "        self.fname = fname\n",
    "        self.lname = lname\n",
    "\n",
    "    def __str__(self) -> str:\n",
    "        return f\"Person with name {self.fname} {self.lname}\"\n",
    "\n",
    "class Student(Person):\n",
    "    def __init__(self, class_grade) -> None:\n",
    "        #Person.__init__(self, \"John\", \"Doe\") # If we use classname, we should include self as paramter\n",
    "        super().__init__(\"John\", \"Doe\") # we don't need self keyword if we reference to super()\n",
    "        self.class_grade = class_grade\n",
    "\n",
    "p = Person(\"Mike\", \"Olsen\")\n",
    "print(p)\n",
    "\n",
    "s = Student(9)\n",
    "print(s.fname, s.lname, s.class_grade) # student has no attribute fname & lname\n",
    "\n"
   ]
  }
 ],
 "metadata": {
  "interpreter": {
   "hash": "7b4b4feff2f24a0f0a34464dbe537a36fda679851528fb8735cb41fa49dffb2d"
  },
  "kernelspec": {
   "display_name": "Python 3.8.8 64-bit ('base': conda)",
   "name": "python3"
  },
  "language_info": {
   "codemirror_mode": {
    "name": "ipython",
    "version": 3
   },
   "file_extension": ".py",
   "mimetype": "text/x-python",
   "name": "python",
   "nbconvert_exporter": "python",
   "pygments_lexer": "ipython3",
   "version": "3.8.8"
  },
  "orig_nbformat": 4
 },
 "nbformat": 4,
 "nbformat_minor": 2
}
