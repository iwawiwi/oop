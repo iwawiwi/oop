{
 "cells": [
  {
   "cell_type": "code",
   "execution_count": 1,
   "metadata": {},
   "outputs": [],
   "source": [
    "import torch as t\n",
    "import torch.nn as tnn\n",
    "import torch.optim as toptim\n",
    "import matplotlib.pyplot as plt"
   ]
  },
  {
   "cell_type": "code",
   "execution_count": 2,
   "metadata": {},
   "outputs": [
    {
     "name": "stdout",
     "output_type": "stream",
     "text": [
      "tensor([[[[0.7439, 0.9221, 0.0957, 0.3749],\n",
      "          [0.7029, 0.3678, 0.9062, 0.5765],\n",
      "          [0.6262, 0.5432, 0.8580, 0.0432],\n",
      "          [0.0501, 0.7221, 0.3821, 0.1200]]]])\n"
     ]
    },
    {
     "data": {
      "text/plain": [
       "<matplotlib.image.AxesImage at 0x21bb27f20c8>"
      ]
     },
     "execution_count": 2,
     "metadata": {},
     "output_type": "execute_result"
    },
    {
     "data": {
      "image/png": "[encoded data removed]",
      "text/plain": [
       "<Figure size 432x288 with 1 Axes>"
      ]
     },
     "metadata": {
      "needs_background": "light"
     },
     "output_type": "display_data"
    }
   ],
   "source": [
    "# generate random tensor image\n",
    "img = t.rand(1,1,4,4)\n",
    "print(img)\n",
    "plt.imshow(img.squeeze(0).moveaxis(0,2))"
   ]
  },
  {
   "cell_type": "code",
   "execution_count": 3,
   "metadata": {},
   "outputs": [],
   "source": [
    "# define network operation\n",
    "conv1 = tnn.Conv2d(1, 1, 3)\n",
    "relu1 = tnn.ReLU()\n",
    "\n",
    "# define nets\n",
    "class MyNet(tnn.Module):\n",
    "    def __init__(self):\n",
    "        super().__init__()\n",
    "        self.conv1 = tnn.Conv2d(1, 1, 3)\n",
    "        self.relu1 = tnn.ReLU()\n",
    "    \n",
    "    def forward(self, x):\n",
    "        x = self.conv1(x)\n",
    "        x = self.relu1(x)\n",
    "        return x\n",
    "        \n",
    "net1 = MyNet()"
   ]
  },
  {
   "cell_type": "markdown",
   "metadata": {},
   "source": [
    "### ReLu Example"
   ]
  },
  {
   "cell_type": "code",
   "execution_count": 4,
   "metadata": {},
   "outputs": [
    {
     "name": "stdout",
     "output_type": "stream",
     "text": [
      "tensor([[[[0.5737, 0.0641, 0.0087],\n",
      "          [0.6344, 0.8418, 0.5539],\n",
      "          [0.2311, 0.7657, 0.0477]]]])\n",
      "tensor([[[[ 0.7370, -0.9479,  0.3318],\n",
      "          [-1.6913,  1.4888, -0.7836],\n",
      "          [ 1.0422, -0.5790,  0.8888]]]])\n",
      "tensor([[[[0.5737, 0.0641, 0.0087],\n",
      "          [0.6344, 0.8418, 0.5539],\n",
      "          [0.2311, 0.7657, 0.0477]]]])\n",
      "tensor([[[[0.7370, 0.0000, 0.3318],\n",
      "          [0.0000, 1.4888, 0.0000],\n",
      "          [1.0422, 0.0000, 0.8888]]]])\n"
     ]
    }
   ],
   "source": [
    "# ReLU example\n",
    "tensor1 = t.rand(1,1,3,3)\n",
    "tensor2 = t.randn(1,1,3,3)\n",
    "print(tensor1)\n",
    "print(tensor2)\n",
    "\n",
    "relu1 = tnn.ReLU()\n",
    "output1 = relu1(tensor1)\n",
    "output2 = relu1(tensor2)\n",
    "print(output1)\n",
    "print(output2)"
   ]
  },
  {
   "cell_type": "markdown",
   "metadata": {},
   "source": [
    "### MaxPool example"
   ]
  },
  {
   "cell_type": "code",
   "execution_count": 12,
   "metadata": {},
   "outputs": [
    {
     "name": "stdout",
     "output_type": "stream",
     "text": [
      "tensor([[[[0.8418, 0.8418],\n",
      "          [0.8418, 0.8418]]]])\n",
      "tensor([[[[1.4888, 1.4888],\n",
      "          [1.4888, 1.4888]]]])\n"
     ]
    }
   ],
   "source": [
    "pool1 = tnn.MaxPool2d(2, 1)\n",
    "output3 = pool1(tensor1)\n",
    "output4 = pool1(tensor2)\n",
    "\n",
    "print(output3)\n",
    "print(output4)"
   ]
  },
  {
   "cell_type": "code",
   "execution_count": 5,
   "metadata": {},
   "outputs": [],
   "source": [
    "# define loss function\n",
    "loss = tnn.MSELoss(reduction=\"sum\")"
   ]
  },
  {
   "cell_type": "code",
   "execution_count": 8,
   "metadata": {},
   "outputs": [
    {
     "name": "stdout",
     "output_type": "stream",
     "text": [
      "torch.Size([1, 1, 2, 2]) tensor([[[[ 0.1486, -0.3263],\n",
      "          [-0.1780, -0.1001]]]])\n",
      "torch.Size([1, 1, 2, 2]) tensor([[[[0.1486, 0.0000],\n",
      "          [0.0000, 0.0000]]]])\n",
      "torch.Size([1, 1, 2, 2]) tensor([[[[0.4676, 0.5850],\n",
      "          [0.4550, 0.8041]]]])\n"
     ]
    },
    {
     "data": {
      "text/plain": [
       "<matplotlib.image.AxesImage at 0x21bb38ae788>"
      ]
     },
     "execution_count": 8,
     "metadata": {},
     "output_type": "execute_result"
    },
    {
     "data": {
      "image/png": "[encoded data removed]",
      "text/plain": [
       "<Figure size 432x288 with 1 Axes>"
      ]
     },
     "metadata": {
      "needs_background": "light"
     },
     "output_type": "display_data"
    },
    {
     "data": {
      "image/png": "[encoded data removed]",
      "text/plain": [
       "<Figure size 432x288 with 1 Axes>"
      ]
     },
     "metadata": {
      "needs_background": "light"
     },
     "output_type": "display_data"
    },
    {
     "data": {
      "image/png": "[encoded data removed]",
      "text/plain": [
       "<Figure size 432x288 with 1 Axes>"
      ]
     },
     "metadata": {
      "needs_background": "light"
     },
     "output_type": "display_data"
    }
   ],
   "source": [
    "\n",
    "output1 = conv1(img)\n",
    "output2 = relu1(output1)\n",
    "\n",
    "output3 = net1(img)\n",
    "\n",
    "print(output1.data.shape, output1.data)\n",
    "print(output2.data.shape, output2.data)\n",
    "print(output3.data.shape, output3.data)\n",
    "\n",
    "plt.figure()\n",
    "plt.imshow(output1.data.squeeze(0).moveaxis(0,2))\n",
    "plt.figure()\n",
    "plt.imshow(output2.data.squeeze(0).moveaxis(0,2))\n",
    "plt.figure()\n",
    "plt.imshow(output3.data.squeeze(0).moveaxis(0,2))"
   ]
  },
  {
   "cell_type": "code",
   "execution_count": 9,
   "metadata": {},
   "outputs": [
    {
     "name": "stdout",
     "output_type": "stream",
     "text": [
      "tensor([[[[-0.1250,  0.0807, -0.1451],\n",
      "          [ 0.1221, -0.3297, -0.0012],\n",
      "          [ 0.0540, -0.1380,  0.0976]]]]) tensor([0.1751])\n",
      "tensor([[[[ 0.2714,  0.1405,  0.1971],\n",
      "          [ 0.0539,  0.1493, -0.1249],\n",
      "          [ 0.2429, -0.2423, -0.1510]]]]) tensor([0.2466])\n"
     ]
    }
   ],
   "source": [
    "# print filter weight\n",
    "print(conv1.weight.data, conv1.bias.data)\n",
    "print(net1.conv1.weight.data, net1.conv1.bias.data)"
   ]
  },
  {
   "cell_type": "code",
   "execution_count": 15,
   "metadata": {},
   "outputs": [
    {
     "name": "stdout",
     "output_type": "stream",
     "text": [
      "torch.Size([1, 1, 3, 3])\n",
      "torch.Size([1, 9])\n"
     ]
    }
   ],
   "source": [
    "output5 = t.flatten(tensor1,1)\n",
    "print(tensor1.shape)\n",
    "print(output5.shape)"
   ]
  }
 ],
 "metadata": {
  "interpreter": {
   "hash": "b566006c408f77349159be86ed2007340e54456b20945633dedaf39e91a035a2"
  },
  "kernelspec": {
   "display_name": "Python 3.7.12 64-bit ('vision': conda)",
   "name": "python3"
  },
  "language_info": {
   "codemirror_mode": {
    "name": "ipython",
    "version": 3
   },
   "file_extension": ".py",
   "mimetype": "text/x-python",
   "name": "python",
   "nbconvert_exporter": "python",
   "pygments_lexer": "ipython3",
   "version": "3.7.12"
  },
  "orig_nbformat": 4
 },
 "nbformat": 4,
 "nbformat_minor": 2
}
